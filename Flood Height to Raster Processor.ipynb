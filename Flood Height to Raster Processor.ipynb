{
 "cells": [
  {
   "cell_type": "markdown",
   "metadata": {},
   "source": [
    "# Flood Height to Raster Processor"
   ]
  },
  {
   "cell_type": "markdown",
   "metadata": {},
   "source": [
    "This code takes flood heights and DEMs as inputs and uses ArcPy tools to find the inundated areas for each division and output them as a binary raster of flooded or not flooded for each division and the entire area of interest."
   ]
  },
  {
   "cell_type": "markdown",
   "metadata": {},
   "source": [
    "## Imports"
   ]
  },
  {
   "cell_type": "code",
   "execution_count": 1,
   "metadata": {
    "ExecuteTime": {
     "end_time": "2020-12-07T22:43:07.414240Z",
     "start_time": "2020-12-07T22:43:07.090067Z"
    }
   },
   "outputs": [],
   "source": [
    "import arcpy\n",
    "from arcpy import env\n",
    "from arcpy.sa import *\n",
    "import pandas as pd\n",
    "import os"
   ]
  },
  {
   "cell_type": "markdown",
   "metadata": {},
   "source": [
    "## Flood Height CSV"
   ]
  },
  {
   "cell_type": "markdown",
   "metadata": {},
   "source": [
    "CSV file that contains flood heights from running the Flood Estimate code."
   ]
  },
  {
   "cell_type": "code",
   "execution_count": 2,
   "metadata": {},
   "outputs": [
    {
     "data": {
      "text/plain": [
       "array([1.96195622, 1.17523596, 1.96195622, 0.331069  , 0.8522816 ,\n",
       "       0.        , 1.96195622, 1.96195622, 1.96195622, 1.96195622,\n",
       "       0.        , 0.        , 1.08288026, 1.19047646, 0.19457727,\n",
       "       0.81034823, 1.16141369, 0.86217069])"
      ]
     },
     "execution_count": 2,
     "metadata": {},
     "output_type": "execute_result"
    }
   ],
   "source": [
    "flood_heights = pd.read_csv(\"Sample_Output_Data\\\\single_storm_flood_heights_c.csv\",header=None).values[0]\n",
    "flood_heights"
   ]
  },
  {
   "cell_type": "markdown",
   "metadata": {},
   "source": [
    "## Create raster"
   ]
  },
  {
   "cell_type": "markdown",
   "metadata": {},
   "source": [
    "Converts flood heights into raster and vector files that can be viewed on a GIS software.\n",
    "1. Uses the ArcPy Con function to set areas where the flood height is lower than the elevation of the DEM to 0, and where flood height is higher to 1 for each division. (Produces raster files in the IntermediateData folder)\n",
    "2. Combines each division into one large raster using the ArcPy Mosaic to Raster function. (Produces one raster file)\n",
    "3. Uses the ArcPy Set Null function to set 0 values in the raster to NoData values.\n",
    "4. Uses the ArcPy Raster to Polygon function to convert the areas where flood height is higher than the DEM into polygons."
   ]
  },
  {
   "cell_type": "code",
   "execution_count": 3,
   "metadata": {},
   "outputs": [
    {
     "data": {
      "text/html": [
       "<h2>Output</h2>Sample_Output_Data\\Flood_Rasters\\inundation_area.shp<h2>Messages</h2>Start Time: Tuesday, February 9, 2021 7:34:36 PM<br/>Succeeded at Tuesday, February 9, 2021 7:34:36 PM (Elapsed Time: 0.16 seconds)<br/><style>.rendered_html td, .rendered_html th {text-align: left;}.rendered_html tbody {border: 1px solid black;}</style>"
      ],
      "text/plain": [
       "<Result 'Sample_Output_Data\\\\Flood_Rasters\\\\inundation_area.shp'>"
      ]
     },
     "execution_count": 3,
     "metadata": {},
     "output_type": "execute_result"
    }
   ],
   "source": [
    "#name of flood raster\n",
    "flood_area_name = \"inundation_area\"\n",
    "\n",
    "# location of original, divisioned DEM files\n",
    "env.workspace = r\"Data\\LM_div18\"\n",
    "env.overwriteOutput = True\n",
    "\n",
    "rasters=[]\n",
    "\n",
    "#Initializing the folders if not created\n",
    "divfolder = r\"IntermediateData\\div_Rasters\" #intermediate data is not needed for the final result\n",
    "if not os.path.exists(divfolder):\n",
    "    os.makedirs(divfolder)\n",
    "rasterfolder = r\"Sample_Output_Data\\Flood_Rasters\"\n",
    "if not os.path.exists(rasterfolder):\n",
    "    os.makedirs(rasterfolder)\n",
    "\n",
    "#Creating a raster for each division\n",
    "for i in range(len(flood_heights)):\n",
    "    raster_name=r\"Data\\LM_div18\\dem_lm_z35_%d.TIF\"%i\n",
    "    inRaster = Raster(raster_name)\n",
    "    whereClause=\"VALUE<%f\"%flood_heights[i]\n",
    "    outCon = Con(inRaster, 1, 0, whereClause) #using the ArcGIS function \"Con\"\n",
    "    outPath = r\"IntermediateData\\div_Rasters\\storm_div%d.TIF\"%i\n",
    "    outCon.save(outPath)\n",
    "    rasters.append(outPath)\n",
    "\n",
    "#Combining all rasters together to encompass the whole study area\n",
    "raster_mosaic = arcpy.MosaicToNewRaster_management(rasters, rasterfolder , flood_area_name+\".tif\",None,None,None,1,None,None)\n",
    "\n",
    "#turn raster to polygon\n",
    "env.workspace = rasterfolder\n",
    "env.overwriteOutput = True\n",
    "outSetNull = SetNull(raster_mosaic, raster_mosaic, \"VALUE=0\")\n",
    "arcpy.RasterToPolygon_conversion(outSetNull, out_polygon_features=flood_area_name +\".shp\", simplify=\"NO_SIMPLIFY\", raster_field=\"Value\")\n"
   ]
  },
  {
   "cell_type": "code",
   "execution_count": null,
   "metadata": {},
   "outputs": [],
   "source": []
  }
 ],
 "metadata": {
  "hide_input": false,
  "kernelspec": {
   "display_name": "Python 3",
   "language": "python",
   "name": "python3"
  },
  "language_info": {
   "codemirror_mode": {
    "name": "ipython",
    "version": 3
   },
   "file_extension": ".py",
   "mimetype": "text/x-python",
   "name": "python",
   "nbconvert_exporter": "python",
   "pygments_lexer": "ipython3",
   "version": "3.6.10"
  },
  "toc": {
   "base_numbering": 1,
   "nav_menu": {},
   "number_sections": true,
   "sideBar": true,
   "skip_h1_title": false,
   "title_cell": "Table of Contents",
   "title_sidebar": "Contents",
   "toc_cell": false,
   "toc_position": {},
   "toc_section_display": true,
   "toc_window_display": true
  },
  "varInspector": {
   "cols": {
    "lenName": 16,
    "lenType": 16,
    "lenVar": 40
   },
   "kernels_config": {
    "python": {
     "delete_cmd_postfix": "",
     "delete_cmd_prefix": "del ",
     "library": "var_list.py",
     "varRefreshCmd": "print(var_dic_list())"
    },
    "r": {
     "delete_cmd_postfix": ") ",
     "delete_cmd_prefix": "rm(",
     "library": "var_list.r",
     "varRefreshCmd": "cat(var_dic_list()) "
    }
   },
   "types_to_exclude": [
    "module",
    "function",
    "builtin_function_or_method",
    "instance",
    "_Feature"
   ],
   "window_display": false
  }
 },
 "nbformat": 4,
 "nbformat_minor": 4
}
