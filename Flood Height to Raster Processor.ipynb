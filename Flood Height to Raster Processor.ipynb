{
 "cells": [
  {
   "cell_type": "markdown",
   "metadata": {},
   "source": [
    "# Flood Height to Raster Processor"
   ]
  },
  {
   "cell_type": "markdown",
   "metadata": {},
   "source": [
    "This code takes flood heights and DEMs as inputs and uses the ArcGIS Con function and MosaictoRaster function to find the inundated areas for each division and output them as a binary raster of flooded or not flooded for each division and the entire area of interest."
   ]
  },
  {
   "cell_type": "markdown",
   "metadata": {},
   "source": [
    "## Import Statements"
   ]
  },
  {
   "cell_type": "code",
   "execution_count": 1,
   "metadata": {},
   "outputs": [],
   "source": [
    "import arcpy\n",
    "from arcpy import env\n",
    "from arcpy.sa import *\n",
    "import pandas as pd\n",
    "import os"
   ]
  },
  {
   "cell_type": "markdown",
   "metadata": {},
   "source": [
    "## Flood Heights without Protection"
   ]
  },
  {
   "cell_type": "markdown",
   "metadata": {},
   "source": [
    "### Import csvs"
   ]
  },
  {
   "cell_type": "code",
   "execution_count": 2,
   "metadata": {},
   "outputs": [],
   "source": [
    "flood_heights_c = pd.read_csv(\"Sample_Output_Data\\\\single_storm_flood_heights_c.csv\",header=None).values\n",
    "flood_heights_w = pd.read_csv(\"Sample_Output_Data\\\\single_storm_flood_heights_w.csv\",header=None).values"
   ]
  },
  {
   "cell_type": "markdown",
   "metadata": {},
   "source": [
    "### Create rasters"
   ]
  },
  {
   "cell_type": "code",
   "execution_count": 3,
   "metadata": {},
   "outputs": [
    {
     "data": {
      "text/html": [
       "<h2>Output</h2>Sample_Output_Data\\Flood_Rasters_w\\Inundation_areas_w.tif<h2>Messages</h2>Start Time: Monday, November 16, 2020 9:17:44 AM<br/>IntermediateData\\div_Rasters\\storm_cold_div0.TIF is loading...<br/>Succeeded at Monday, November 16, 2020 9:17:44 AM (Elapsed Time: 0.15 seconds)<br/><style>.rendered_html td, .rendered_html th {text-align: left;}.rendered_html tbody {border: 1px solid black;}</style>"
      ],
      "text/plain": [
       "<Result 'Sample_Output_Data\\\\Flood_Rasters_w\\\\Inundation_areas_w.tif'>"
      ]
     },
     "execution_count": 3,
     "metadata": {},
     "output_type": "execute_result"
    }
   ],
   "source": [
    "#Warm Storm\n",
    "\n",
    "# location of original, divisioned, DEM files\n",
    "env.workspace = r\"Data\\LM_div18\"\n",
    "env.overwriteOutput = True\n",
    "\n",
    "rasters=[]\n",
    "\n",
    "divfolder = r\"IntermediateData\\div_Rasters\"\n",
    "if not os.path.exists(divfolder):\n",
    "    os.makedirs(divfolder)\n",
    "rasterfolder = r\"Sample_Output_Data\\Flood_Rasters_w\"\n",
    "if not os.path.exists(rasterfolder):\n",
    "    os.makedirs(rasterfolder)\n",
    "\n",
    "#Processing Warm Storms\n",
    "for i in range(len(flood_heights_w)):\n",
    "    raster_name=r\"Data\\LM_div18\\dem_lm_z35_%d.TIF\"%i\n",
    "    inRaster = Raster(raster_name)\n",
    "    whereClause=\"VALUE<%f\"%flood_heights_w[0][i]\n",
    "    outCon = Con(inRaster, 1, 0, whereClause)\n",
    "    outPath = r\"IntermediateData\\div_Rasters\\storm_cold_div%d.TIF\"%i\n",
    "    outCon.save(outPath)\n",
    "    rasters.append(outPath)\n",
    "\n",
    "arcpy.MosaicToNewRaster_management(rasters, rasterfolder , \"Inundation_areas_w.tif\",None,None,None,1,None,None)"
   ]
  },
  {
   "cell_type": "code",
   "execution_count": 4,
   "metadata": {
    "scrolled": true
   },
   "outputs": [
    {
     "data": {
      "text/html": [
       "<h2>Output</h2>Sample_Output_Data\\Flood_Rasters_c\\Inundation_areas_c.tif<h2>Messages</h2>Start Time: Monday, November 16, 2020 9:17:45 AM<br/>IntermediateData\\div_Rasters\\storm_cold_div0.TIF is loading...<br/>Succeeded at Monday, November 16, 2020 9:17:45 AM (Elapsed Time: 0.18 seconds)<br/><style>.rendered_html td, .rendered_html th {text-align: left;}.rendered_html tbody {border: 1px solid black;}</style>"
      ],
      "text/plain": [
       "<Result 'Sample_Output_Data\\\\Flood_Rasters_c\\\\Inundation_areas_c.tif'>"
      ]
     },
     "execution_count": 4,
     "metadata": {},
     "output_type": "execute_result"
    }
   ],
   "source": [
    "#Cold Storm\n",
    "\n",
    "# location of original, divisioned, DEM files\n",
    "env.workspace = r\"Data\\LM_div18\"\n",
    "env.overwriteOutput = True\n",
    "\n",
    "rasters=[]\n",
    "\n",
    "divfolder = r\"IntermediateData\\div_Rasters\"\n",
    "if not os.path.exists(divfolder):\n",
    "    os.makedirs(divfolder)\n",
    "rasterfolder = r\"Sample_Output_Data\\Flood_Rasters_c\"\n",
    "if not os.path.exists(rasterfolder):\n",
    "    os.makedirs(rasterfolder)\n",
    "\n",
    "#Processing Warm Storms\n",
    "for i in range(len(flood_heights_c)):\n",
    "    raster_name=r\"Data\\LM_div18\\dem_lm_z35_%d.TIF\"%i\n",
    "    inRaster = Raster(raster_name)\n",
    "    whereClause=\"VALUE<%f\"%flood_heights_c[0][i]\n",
    "    outCon = Con(inRaster, 1, 0, whereClause)\n",
    "    outPath = r\"IntermediateData\\div_Rasters\\storm_cold_div%d.TIF\"%i\n",
    "    outCon.save(outPath)\n",
    "    rasters.append(outPath)\n",
    "\n",
    "arcpy.MosaicToNewRaster_management(rasters, rasterfolder, \"Inundation_areas_c.tif\",None,None,None,1,None,None)"
   ]
  },
  {
   "cell_type": "markdown",
   "metadata": {},
   "source": [
    "## Flood Heights with Protection"
   ]
  },
  {
   "cell_type": "markdown",
   "metadata": {},
   "source": [
    "### Import csvs"
   ]
  },
  {
   "cell_type": "code",
   "execution_count": 5,
   "metadata": {},
   "outputs": [],
   "source": [
    "flood_heights_c = pd.read_csv(\"Sample_Output_Data\\\\single_storm_flood_heights_c.csv\",header=None).values\n",
    "flood_heights_w = pd.read_csv(\"Sample_Output_Data\\\\single_storm_flood_heights_w.csv\",header=None).values"
   ]
  },
  {
   "cell_type": "markdown",
   "metadata": {},
   "source": [
    "### Create rasters"
   ]
  },
  {
   "cell_type": "code",
   "execution_count": 6,
   "metadata": {},
   "outputs": [
    {
     "data": {
      "text/html": [
       "<h2>Output</h2>Sample_Output_Data\\Flood_Rasters_c\\Inundation_areas_w.tif<h2>Messages</h2>Start Time: Monday, November 16, 2020 9:17:46 AM<br/>IntermediateData\\div_Rasters\\storm_warm_div0.TIF is loading...<br/>Succeeded at Monday, November 16, 2020 9:17:46 AM (Elapsed Time: 0.14 seconds)<br/><style>.rendered_html td, .rendered_html th {text-align: left;}.rendered_html tbody {border: 1px solid black;}</style>"
      ],
      "text/plain": [
       "<Result 'Sample_Output_Data\\\\Flood_Rasters_c\\\\Inundation_areas_w.tif'>"
      ]
     },
     "execution_count": 6,
     "metadata": {},
     "output_type": "execute_result"
    }
   ],
   "source": [
    "#Warm Storm\n",
    "\n",
    "# location of original, divisioned, DEM files\n",
    "env.workspace = r\"Data\\LM_div18\"\n",
    "env.overwriteOutput = True\n",
    "\n",
    "rasters=[]\n",
    "\n",
    "divfolder = r\"IntermediateData\\div_Rasters\"\n",
    "if not os.path.exists(divfolder):\n",
    "    os.makedirs(divfolder)\n",
    "rasterfolder = r\"Sample_Output_Data\\Flood_Rasters_c\"\n",
    "if not os.path.exists(rasterfolder):\n",
    "    os.makedirs(rasterfolder)\n",
    "\n",
    "#Processing Warm Storms\n",
    "for i in range(len(flood_heights_c)):\n",
    "    raster_name=r\"Data\\LM_div18\\dem_lm_z35_%d.TIF\"%i\n",
    "    inRaster = Raster(raster_name)\n",
    "    whereClause=\"VALUE<%f\"%flood_heights_w[0][i]\n",
    "    outCon = Con(inRaster, 1, 0, whereClause)\n",
    "    outPath = r\"IntermediateData\\div_Rasters\\storm_warm_div%d.TIF\"%i\n",
    "    outCon.save(outPath)\n",
    "    rasters.append(outPath)\n",
    "\n",
    "arcpy.MosaicToNewRaster_management(rasters, rasterfolder, \"Inundation_areas_w.tif\",None,None,None,1,None,None)"
   ]
  },
  {
   "cell_type": "code",
   "execution_count": 7,
   "metadata": {
    "scrolled": true
   },
   "outputs": [
    {
     "data": {
      "text/html": [
       "<h2>Output</h2>Sample_Output_Data\\Flood_Rasters_c\\Inundation_areas_c.tif<h2>Messages</h2>Start Time: Monday, November 16, 2020 9:17:47 AM<br/>IntermediateData\\div_Rasters\\storm_cold_div0.TIF is loading...<br/>Succeeded at Monday, November 16, 2020 9:17:47 AM (Elapsed Time: 0.17 seconds)<br/><style>.rendered_html td, .rendered_html th {text-align: left;}.rendered_html tbody {border: 1px solid black;}</style>"
      ],
      "text/plain": [
       "<Result 'Sample_Output_Data\\\\Flood_Rasters_c\\\\Inundation_areas_c.tif'>"
      ]
     },
     "execution_count": 7,
     "metadata": {},
     "output_type": "execute_result"
    }
   ],
   "source": [
    "#Cold Storm\n",
    "\n",
    "# location of original, divisioned, DEM files\n",
    "env.workspace = r\"Data\\LM_div18\"\n",
    "env.overwriteOutput = True\n",
    "\n",
    "rasters=[]\n",
    "\n",
    "divfolder = r\"IntermediateData\\div_Rasters\"\n",
    "if not os.path.exists(divfolder):\n",
    "    os.makedirs(divfolder)\n",
    "rasterfolder = r\"Sample_Output_Data\\Flood_Rasters_c\"\n",
    "if not os.path.exists(rasterfolder):\n",
    "    os.makedirs(rasterfolder)\n",
    "\n",
    "#Processing Warm Storms\n",
    "for i in range(len(flood_heights_c)):\n",
    "    raster_name=r\"Data\\LM_div18\\dem_lm_z35_%d.TIF\"%i\n",
    "    inRaster = Raster(raster_name)\n",
    "    whereClause=\"VALUE<%f\"%flood_heights_c[0][i]\n",
    "    outCon = Con(inRaster, 1, 0, whereClause)\n",
    "    outPath = r\"IntermediateData\\div_Rasters\\storm_cold_div%d.TIF\"%i\n",
    "    outCon.save(outPath)\n",
    "    rasters.append(outPath)\n",
    "\n",
    "arcpy.MosaicToNewRaster_management(rasters, rasterfolder, \"Inundation_areas_c.tif\",None,None,None,1,None,None)"
   ]
  }
 ],
 "metadata": {
  "hide_input": false,
  "kernelspec": {
   "display_name": "Python 3",
   "language": "python",
   "name": "python3"
  },
  "language_info": {
   "codemirror_mode": {
    "name": "ipython",
    "version": 3
   },
   "file_extension": ".py",
   "mimetype": "text/x-python",
   "name": "python",
   "nbconvert_exporter": "python",
   "pygments_lexer": "ipython3",
   "version": "3.6.10"
  },
  "toc": {
   "base_numbering": 1,
   "nav_menu": {},
   "number_sections": true,
   "sideBar": true,
   "skip_h1_title": false,
   "title_cell": "Table of Contents",
   "title_sidebar": "Contents",
   "toc_cell": false,
   "toc_position": {},
   "toc_section_display": true,
   "toc_window_display": true
  },
  "varInspector": {
   "cols": {
    "lenName": 16,
    "lenType": 16,
    "lenVar": 40
   },
   "kernels_config": {
    "python": {
     "delete_cmd_postfix": "",
     "delete_cmd_prefix": "del ",
     "library": "var_list.py",
     "varRefreshCmd": "print(var_dic_list())"
    },
    "r": {
     "delete_cmd_postfix": ") ",
     "delete_cmd_prefix": "rm(",
     "library": "var_list.r",
     "varRefreshCmd": "cat(var_dic_list()) "
    }
   },
   "types_to_exclude": [
    "module",
    "function",
    "builtin_function_or_method",
    "instance",
    "_Feature"
   ],
   "window_display": false
  }
 },
 "nbformat": 4,
 "nbformat_minor": 4
}
